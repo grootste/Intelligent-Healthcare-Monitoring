{
 "cells": [
  {
   "cell_type": "markdown",
   "metadata": {},
   "source": [
    "### 1. Import the libraries"
   ]
  },
  {
   "cell_type": "code",
   "execution_count": 2,
   "metadata": {},
   "outputs": [],
   "source": [
    "import pandas as pd\n",
    "from sklearn.model_selection import train_test_split\n",
    "from sklearn.metrics import confusion_matrix\n",
    "from sklearn.model_selection import StratifiedKFold\n",
    "from sklearn.ensemble import RandomForestClassifier\n",
    "from sklearn.metrics import precision_score, matthews_corrcoef, accuracy_score\n",
    "import seaborn as sns"
   ]
  },
  {
   "cell_type": "code",
   "execution_count": 3,
   "metadata": {},
   "outputs": [],
   "source": [
    "pd.set_option('display.max_columns', None)\n",
    "pd.set_option('display.max_rows', None)"
   ]
  },
  {
   "cell_type": "markdown",
   "metadata": {},
   "source": [
    "### 2. Read the csv"
   ]
  },
  {
   "cell_type": "code",
   "execution_count": 4,
   "metadata": {},
   "outputs": [],
   "source": [
    "df = pd.read_csv('corona_sample.csv', error_bad_lines=False, index_col=False, dtype='unicode')"
   ]
  },
  {
   "cell_type": "markdown",
   "metadata": {},
   "source": [
    "#### a. look at the shape of the data"
   ]
  },
  {
   "cell_type": "code",
   "execution_count": 5,
   "metadata": {},
   "outputs": [
    {
     "data": {
      "text/plain": [
       "(278848, 10)"
      ]
     },
     "execution_count": 5,
     "metadata": {},
     "output_type": "execute_result"
    }
   ],
   "source": [
    "df.shape"
   ]
  },
  {
   "cell_type": "markdown",
   "metadata": {},
   "source": [
    "#### b. look at the data"
   ]
  },
  {
   "cell_type": "code",
   "execution_count": 6,
   "metadata": {},
   "outputs": [
    {
     "data": {
      "text/html": [
       "<div>\n",
       "<style scoped>\n",
       "    .dataframe tbody tr th:only-of-type {\n",
       "        vertical-align: middle;\n",
       "    }\n",
       "\n",
       "    .dataframe tbody tr th {\n",
       "        vertical-align: top;\n",
       "    }\n",
       "\n",
       "    .dataframe thead th {\n",
       "        text-align: right;\n",
       "    }\n",
       "</style>\n",
       "<table border=\"1\" class=\"dataframe\">\n",
       "  <thead>\n",
       "    <tr style=\"text-align: right;\">\n",
       "      <th></th>\n",
       "      <th>test_date</th>\n",
       "      <th>cough</th>\n",
       "      <th>fever</th>\n",
       "      <th>sore_throat</th>\n",
       "      <th>shortness_of_breath</th>\n",
       "      <th>head_ache</th>\n",
       "      <th>corona_result</th>\n",
       "      <th>age_60_and_above</th>\n",
       "      <th>gender</th>\n",
       "      <th>test_indication</th>\n",
       "    </tr>\n",
       "  </thead>\n",
       "  <tbody>\n",
       "    <tr>\n",
       "      <th>0</th>\n",
       "      <td>2020-04-30</td>\n",
       "      <td>0</td>\n",
       "      <td>0</td>\n",
       "      <td>0</td>\n",
       "      <td>0</td>\n",
       "      <td>0</td>\n",
       "      <td>negative</td>\n",
       "      <td>None</td>\n",
       "      <td>female</td>\n",
       "      <td>Other</td>\n",
       "    </tr>\n",
       "    <tr>\n",
       "      <th>1</th>\n",
       "      <td>2020-04-30</td>\n",
       "      <td>1</td>\n",
       "      <td>0</td>\n",
       "      <td>0</td>\n",
       "      <td>0</td>\n",
       "      <td>0</td>\n",
       "      <td>negative</td>\n",
       "      <td>None</td>\n",
       "      <td>female</td>\n",
       "      <td>Other</td>\n",
       "    </tr>\n",
       "    <tr>\n",
       "      <th>2</th>\n",
       "      <td>2020-04-30</td>\n",
       "      <td>0</td>\n",
       "      <td>1</td>\n",
       "      <td>0</td>\n",
       "      <td>0</td>\n",
       "      <td>0</td>\n",
       "      <td>negative</td>\n",
       "      <td>None</td>\n",
       "      <td>male</td>\n",
       "      <td>Other</td>\n",
       "    </tr>\n",
       "    <tr>\n",
       "      <th>3</th>\n",
       "      <td>2020-04-30</td>\n",
       "      <td>1</td>\n",
       "      <td>0</td>\n",
       "      <td>0</td>\n",
       "      <td>0</td>\n",
       "      <td>0</td>\n",
       "      <td>negative</td>\n",
       "      <td>None</td>\n",
       "      <td>female</td>\n",
       "      <td>Other</td>\n",
       "    </tr>\n",
       "    <tr>\n",
       "      <th>4</th>\n",
       "      <td>2020-04-30</td>\n",
       "      <td>1</td>\n",
       "      <td>0</td>\n",
       "      <td>0</td>\n",
       "      <td>0</td>\n",
       "      <td>0</td>\n",
       "      <td>negative</td>\n",
       "      <td>None</td>\n",
       "      <td>male</td>\n",
       "      <td>Other</td>\n",
       "    </tr>\n",
       "    <tr>\n",
       "      <th>5</th>\n",
       "      <td>2020-04-30</td>\n",
       "      <td>1</td>\n",
       "      <td>0</td>\n",
       "      <td>0</td>\n",
       "      <td>0</td>\n",
       "      <td>0</td>\n",
       "      <td>negative</td>\n",
       "      <td>None</td>\n",
       "      <td>female</td>\n",
       "      <td>Other</td>\n",
       "    </tr>\n",
       "    <tr>\n",
       "      <th>6</th>\n",
       "      <td>2020-04-30</td>\n",
       "      <td>1</td>\n",
       "      <td>1</td>\n",
       "      <td>0</td>\n",
       "      <td>0</td>\n",
       "      <td>0</td>\n",
       "      <td>negative</td>\n",
       "      <td>None</td>\n",
       "      <td>male</td>\n",
       "      <td>Abroad</td>\n",
       "    </tr>\n",
       "    <tr>\n",
       "      <th>7</th>\n",
       "      <td>2020-04-30</td>\n",
       "      <td>0</td>\n",
       "      <td>0</td>\n",
       "      <td>0</td>\n",
       "      <td>0</td>\n",
       "      <td>0</td>\n",
       "      <td>negative</td>\n",
       "      <td>None</td>\n",
       "      <td>female</td>\n",
       "      <td>Other</td>\n",
       "    </tr>\n",
       "    <tr>\n",
       "      <th>8</th>\n",
       "      <td>2020-04-30</td>\n",
       "      <td>0</td>\n",
       "      <td>0</td>\n",
       "      <td>0</td>\n",
       "      <td>0</td>\n",
       "      <td>0</td>\n",
       "      <td>negative</td>\n",
       "      <td>None</td>\n",
       "      <td>male</td>\n",
       "      <td>Other</td>\n",
       "    </tr>\n",
       "    <tr>\n",
       "      <th>9</th>\n",
       "      <td>2020-04-30</td>\n",
       "      <td>0</td>\n",
       "      <td>0</td>\n",
       "      <td>0</td>\n",
       "      <td>0</td>\n",
       "      <td>0</td>\n",
       "      <td>negative</td>\n",
       "      <td>None</td>\n",
       "      <td>male</td>\n",
       "      <td>Contact with confirmed</td>\n",
       "    </tr>\n",
       "    <tr>\n",
       "      <th>10</th>\n",
       "      <td>2020-04-30</td>\n",
       "      <td>1</td>\n",
       "      <td>1</td>\n",
       "      <td>0</td>\n",
       "      <td>0</td>\n",
       "      <td>0</td>\n",
       "      <td>negative</td>\n",
       "      <td>None</td>\n",
       "      <td>female</td>\n",
       "      <td>Other</td>\n",
       "    </tr>\n",
       "    <tr>\n",
       "      <th>11</th>\n",
       "      <td>2020-04-30</td>\n",
       "      <td>0</td>\n",
       "      <td>0</td>\n",
       "      <td>0</td>\n",
       "      <td>0</td>\n",
       "      <td>0</td>\n",
       "      <td>negative</td>\n",
       "      <td>None</td>\n",
       "      <td>female</td>\n",
       "      <td>Other</td>\n",
       "    </tr>\n",
       "    <tr>\n",
       "      <th>12</th>\n",
       "      <td>2020-04-30</td>\n",
       "      <td>0</td>\n",
       "      <td>0</td>\n",
       "      <td>0</td>\n",
       "      <td>0</td>\n",
       "      <td>0</td>\n",
       "      <td>negative</td>\n",
       "      <td>None</td>\n",
       "      <td>female</td>\n",
       "      <td>Other</td>\n",
       "    </tr>\n",
       "    <tr>\n",
       "      <th>13</th>\n",
       "      <td>2020-04-30</td>\n",
       "      <td>0</td>\n",
       "      <td>0</td>\n",
       "      <td>0</td>\n",
       "      <td>0</td>\n",
       "      <td>0</td>\n",
       "      <td>negative</td>\n",
       "      <td>None</td>\n",
       "      <td>female</td>\n",
       "      <td>Other</td>\n",
       "    </tr>\n",
       "    <tr>\n",
       "      <th>14</th>\n",
       "      <td>2020-04-30</td>\n",
       "      <td>0</td>\n",
       "      <td>0</td>\n",
       "      <td>0</td>\n",
       "      <td>0</td>\n",
       "      <td>0</td>\n",
       "      <td>negative</td>\n",
       "      <td>None</td>\n",
       "      <td>male</td>\n",
       "      <td>Other</td>\n",
       "    </tr>\n",
       "    <tr>\n",
       "      <th>15</th>\n",
       "      <td>2020-04-30</td>\n",
       "      <td>1</td>\n",
       "      <td>0</td>\n",
       "      <td>0</td>\n",
       "      <td>0</td>\n",
       "      <td>0</td>\n",
       "      <td>negative</td>\n",
       "      <td>None</td>\n",
       "      <td>male</td>\n",
       "      <td>Other</td>\n",
       "    </tr>\n",
       "    <tr>\n",
       "      <th>16</th>\n",
       "      <td>2020-04-30</td>\n",
       "      <td>0</td>\n",
       "      <td>0</td>\n",
       "      <td>0</td>\n",
       "      <td>0</td>\n",
       "      <td>0</td>\n",
       "      <td>negative</td>\n",
       "      <td>None</td>\n",
       "      <td>female</td>\n",
       "      <td>Abroad</td>\n",
       "    </tr>\n",
       "    <tr>\n",
       "      <th>17</th>\n",
       "      <td>2020-04-30</td>\n",
       "      <td>1</td>\n",
       "      <td>1</td>\n",
       "      <td>0</td>\n",
       "      <td>0</td>\n",
       "      <td>0</td>\n",
       "      <td>negative</td>\n",
       "      <td>None</td>\n",
       "      <td>male</td>\n",
       "      <td>Abroad</td>\n",
       "    </tr>\n",
       "    <tr>\n",
       "      <th>18</th>\n",
       "      <td>2020-04-30</td>\n",
       "      <td>1</td>\n",
       "      <td>0</td>\n",
       "      <td>0</td>\n",
       "      <td>0</td>\n",
       "      <td>0</td>\n",
       "      <td>negative</td>\n",
       "      <td>None</td>\n",
       "      <td>female</td>\n",
       "      <td>Other</td>\n",
       "    </tr>\n",
       "    <tr>\n",
       "      <th>19</th>\n",
       "      <td>2020-04-30</td>\n",
       "      <td>1</td>\n",
       "      <td>0</td>\n",
       "      <td>0</td>\n",
       "      <td>0</td>\n",
       "      <td>0</td>\n",
       "      <td>negative</td>\n",
       "      <td>None</td>\n",
       "      <td>male</td>\n",
       "      <td>Abroad</td>\n",
       "    </tr>\n",
       "  </tbody>\n",
       "</table>\n",
       "</div>"
      ],
      "text/plain": [
       "     test_date cough fever sore_throat shortness_of_breath head_ache  \\\n",
       "0   2020-04-30     0     0           0                   0         0   \n",
       "1   2020-04-30     1     0           0                   0         0   \n",
       "2   2020-04-30     0     1           0                   0         0   \n",
       "3   2020-04-30     1     0           0                   0         0   \n",
       "4   2020-04-30     1     0           0                   0         0   \n",
       "5   2020-04-30     1     0           0                   0         0   \n",
       "6   2020-04-30     1     1           0                   0         0   \n",
       "7   2020-04-30     0     0           0                   0         0   \n",
       "8   2020-04-30     0     0           0                   0         0   \n",
       "9   2020-04-30     0     0           0                   0         0   \n",
       "10  2020-04-30     1     1           0                   0         0   \n",
       "11  2020-04-30     0     0           0                   0         0   \n",
       "12  2020-04-30     0     0           0                   0         0   \n",
       "13  2020-04-30     0     0           0                   0         0   \n",
       "14  2020-04-30     0     0           0                   0         0   \n",
       "15  2020-04-30     1     0           0                   0         0   \n",
       "16  2020-04-30     0     0           0                   0         0   \n",
       "17  2020-04-30     1     1           0                   0         0   \n",
       "18  2020-04-30     1     0           0                   0         0   \n",
       "19  2020-04-30     1     0           0                   0         0   \n",
       "\n",
       "   corona_result age_60_and_above  gender         test_indication  \n",
       "0       negative             None  female                   Other  \n",
       "1       negative             None  female                   Other  \n",
       "2       negative             None    male                   Other  \n",
       "3       negative             None  female                   Other  \n",
       "4       negative             None    male                   Other  \n",
       "5       negative             None  female                   Other  \n",
       "6       negative             None    male                  Abroad  \n",
       "7       negative             None  female                   Other  \n",
       "8       negative             None    male                   Other  \n",
       "9       negative             None    male  Contact with confirmed  \n",
       "10      negative             None  female                   Other  \n",
       "11      negative             None  female                   Other  \n",
       "12      negative             None  female                   Other  \n",
       "13      negative             None  female                   Other  \n",
       "14      negative             None    male                   Other  \n",
       "15      negative             None    male                   Other  \n",
       "16      negative             None  female                  Abroad  \n",
       "17      negative             None    male                  Abroad  \n",
       "18      negative             None  female                   Other  \n",
       "19      negative             None    male                  Abroad  "
      ]
     },
     "execution_count": 6,
     "metadata": {},
     "output_type": "execute_result"
    }
   ],
   "source": [
    "df.head(20)"
   ]
  },
  {
   "cell_type": "markdown",
   "metadata": {},
   "source": [
    "#### c. feature engineering on the columns"
   ]
  },
  {
   "cell_type": "code",
   "execution_count": 7,
   "metadata": {},
   "outputs": [
    {
     "data": {
      "text/plain": [
       "0       236368\n",
       "1        42228\n",
       "None       252\n",
       "Name: cough, dtype: int64"
      ]
     },
     "execution_count": 7,
     "metadata": {},
     "output_type": "execute_result"
    }
   ],
   "source": [
    "df['cough'].value_counts()"
   ]
  },
  {
   "cell_type": "code",
   "execution_count": 8,
   "metadata": {},
   "outputs": [
    {
     "data": {
      "text/plain": [
       "0       256844\n",
       "1        21752\n",
       "None       252\n",
       "Name: fever, dtype: int64"
      ]
     },
     "execution_count": 8,
     "metadata": {},
     "output_type": "execute_result"
    }
   ],
   "source": [
    "df['fever'].value_counts()"
   ]
  },
  {
   "cell_type": "code",
   "execution_count": 9,
   "metadata": {},
   "outputs": [
    {
     "data": {
      "text/plain": [
       "0       276921\n",
       "1         1926\n",
       "None         1\n",
       "Name: sore_throat, dtype: int64"
      ]
     },
     "execution_count": 9,
     "metadata": {},
     "output_type": "execute_result"
    }
   ],
   "source": [
    "df['sore_throat'].value_counts()"
   ]
  },
  {
   "cell_type": "code",
   "execution_count": 10,
   "metadata": {},
   "outputs": [
    {
     "data": {
      "text/plain": [
       "0       277270\n",
       "1         1577\n",
       "None         1\n",
       "Name: shortness_of_breath, dtype: int64"
      ]
     },
     "execution_count": 10,
     "metadata": {},
     "output_type": "execute_result"
    }
   ],
   "source": [
    "df['shortness_of_breath'].value_counts()"
   ]
  },
  {
   "cell_type": "code",
   "execution_count": 11,
   "metadata": {},
   "outputs": [
    {
     "data": {
      "text/plain": [
       "0       276433\n",
       "1         2414\n",
       "None         1\n",
       "Name: head_ache, dtype: int64"
      ]
     },
     "execution_count": 11,
     "metadata": {},
     "output_type": "execute_result"
    }
   ],
   "source": [
    "df['head_ache'].value_counts()"
   ]
  },
  {
   "cell_type": "code",
   "execution_count": 12,
   "metadata": {},
   "outputs": [
    {
     "data": {
      "text/plain": [
       "negative    260227\n",
       "positive     14729\n",
       "other         3892\n",
       "Name: corona_result, dtype: int64"
      ]
     },
     "execution_count": 12,
     "metadata": {},
     "output_type": "execute_result"
    }
   ],
   "source": [
    "df['corona_result'].value_counts()"
   ]
  },
  {
   "cell_type": "code",
   "execution_count": 13,
   "metadata": {},
   "outputs": [
    {
     "data": {
      "text/plain": [
       "None    127320\n",
       "No      125703\n",
       "Yes      25825\n",
       "Name: age_60_and_above, dtype: int64"
      ]
     },
     "execution_count": 13,
     "metadata": {},
     "output_type": "execute_result"
    }
   ],
   "source": [
    "df['age_60_and_above'].value_counts()"
   ]
  },
  {
   "cell_type": "code",
   "execution_count": 14,
   "metadata": {},
   "outputs": [
    {
     "data": {
      "text/plain": [
       "female    130158\n",
       "male      129127\n",
       "None       19563\n",
       "Name: gender, dtype: int64"
      ]
     },
     "execution_count": 14,
     "metadata": {},
     "output_type": "execute_result"
    }
   ],
   "source": [
    "df['gender'].value_counts()"
   ]
  },
  {
   "cell_type": "code",
   "execution_count": 15,
   "metadata": {},
   "outputs": [
    {
     "data": {
      "text/plain": [
       "Other                     242741\n",
       "Abroad                     25468\n",
       "Contact with confirmed     10639\n",
       "Name: test_indication, dtype: int64"
      ]
     },
     "execution_count": 15,
     "metadata": {},
     "output_type": "execute_result"
    }
   ],
   "source": [
    "df['test_indication'].value_counts()"
   ]
  },
  {
   "cell_type": "code",
   "execution_count": 16,
   "metadata": {},
   "outputs": [],
   "source": [
    "# remove rows that are not useful\n",
    "\n",
    "def remove_unnecessary(df):\n",
    "    df = df.loc[df.cough != 'None']\n",
    "    df = df.loc[df.fever != 'None']\n",
    "    df = df.loc[df.sore_throat != 'None']\n",
    "    df = df.loc[df.shortness_of_breath != 'None']\n",
    "    df = df.loc[df.head_ache != 'None']\n",
    "    df = df.loc[df.age_60_and_above != 'None']\n",
    "    df = df.loc[df.corona_result != 'other']\n",
    "    df = df.drop('test_date', axis=1)\n",
    "    return df\n",
    "\n",
    "df = remove_unnecessary(df)"
   ]
  },
  {
   "cell_type": "code",
   "execution_count": 17,
   "metadata": {},
   "outputs": [
    {
     "data": {
      "text/html": [
       "<div>\n",
       "<style scoped>\n",
       "    .dataframe tbody tr th:only-of-type {\n",
       "        vertical-align: middle;\n",
       "    }\n",
       "\n",
       "    .dataframe tbody tr th {\n",
       "        vertical-align: top;\n",
       "    }\n",
       "\n",
       "    .dataframe thead th {\n",
       "        text-align: right;\n",
       "    }\n",
       "</style>\n",
       "<table border=\"1\" class=\"dataframe\">\n",
       "  <thead>\n",
       "    <tr style=\"text-align: right;\">\n",
       "      <th></th>\n",
       "      <th>cough</th>\n",
       "      <th>fever</th>\n",
       "      <th>sore_throat</th>\n",
       "      <th>shortness_of_breath</th>\n",
       "      <th>head_ache</th>\n",
       "      <th>corona_result</th>\n",
       "      <th>age_60_and_above</th>\n",
       "      <th>gender</th>\n",
       "      <th>test_indication</th>\n",
       "    </tr>\n",
       "  </thead>\n",
       "  <tbody>\n",
       "    <tr>\n",
       "      <th>122808</th>\n",
       "      <td>1</td>\n",
       "      <td>0</td>\n",
       "      <td>0</td>\n",
       "      <td>0</td>\n",
       "      <td>0</td>\n",
       "      <td>negative</td>\n",
       "      <td>Yes</td>\n",
       "      <td>male</td>\n",
       "      <td>Other</td>\n",
       "    </tr>\n",
       "    <tr>\n",
       "      <th>122809</th>\n",
       "      <td>1</td>\n",
       "      <td>0</td>\n",
       "      <td>0</td>\n",
       "      <td>0</td>\n",
       "      <td>0</td>\n",
       "      <td>positive</td>\n",
       "      <td>No</td>\n",
       "      <td>female</td>\n",
       "      <td>Other</td>\n",
       "    </tr>\n",
       "    <tr>\n",
       "      <th>122810</th>\n",
       "      <td>0</td>\n",
       "      <td>0</td>\n",
       "      <td>0</td>\n",
       "      <td>0</td>\n",
       "      <td>0</td>\n",
       "      <td>negative</td>\n",
       "      <td>No</td>\n",
       "      <td>female</td>\n",
       "      <td>Other</td>\n",
       "    </tr>\n",
       "    <tr>\n",
       "      <th>122811</th>\n",
       "      <td>0</td>\n",
       "      <td>1</td>\n",
       "      <td>0</td>\n",
       "      <td>0</td>\n",
       "      <td>0</td>\n",
       "      <td>negative</td>\n",
       "      <td>No</td>\n",
       "      <td>female</td>\n",
       "      <td>Abroad</td>\n",
       "    </tr>\n",
       "    <tr>\n",
       "      <th>122812</th>\n",
       "      <td>1</td>\n",
       "      <td>0</td>\n",
       "      <td>0</td>\n",
       "      <td>0</td>\n",
       "      <td>0</td>\n",
       "      <td>negative</td>\n",
       "      <td>Yes</td>\n",
       "      <td>female</td>\n",
       "      <td>Other</td>\n",
       "    </tr>\n",
       "  </tbody>\n",
       "</table>\n",
       "</div>"
      ],
      "text/plain": [
       "       cough fever sore_throat shortness_of_breath head_ache corona_result  \\\n",
       "122808     1     0           0                   0         0      negative   \n",
       "122809     1     0           0                   0         0      positive   \n",
       "122810     0     0           0                   0         0      negative   \n",
       "122811     0     1           0                   0         0      negative   \n",
       "122812     1     0           0                   0         0      negative   \n",
       "\n",
       "       age_60_and_above  gender test_indication  \n",
       "122808              Yes    male           Other  \n",
       "122809               No  female           Other  \n",
       "122810               No  female           Other  \n",
       "122811               No  female          Abroad  \n",
       "122812              Yes  female           Other  "
      ]
     },
     "execution_count": 17,
     "metadata": {},
     "output_type": "execute_result"
    }
   ],
   "source": [
    "# checking the shape again\n",
    "\n",
    "df.head()"
   ]
  },
  {
   "cell_type": "code",
   "execution_count": 18,
   "metadata": {},
   "outputs": [],
   "source": [
    "# converting the categorical variables to 1/0s \n",
    "\n",
    "ls =['age_60_and_above', 'gender', 'test_indication']\n",
    "\n",
    "df = pd.get_dummies(df, columns=ls)"
   ]
  },
  {
   "cell_type": "code",
   "execution_count": 19,
   "metadata": {},
   "outputs": [
    {
     "data": {
      "text/html": [
       "<div>\n",
       "<style scoped>\n",
       "    .dataframe tbody tr th:only-of-type {\n",
       "        vertical-align: middle;\n",
       "    }\n",
       "\n",
       "    .dataframe tbody tr th {\n",
       "        vertical-align: top;\n",
       "    }\n",
       "\n",
       "    .dataframe thead th {\n",
       "        text-align: right;\n",
       "    }\n",
       "</style>\n",
       "<table border=\"1\" class=\"dataframe\">\n",
       "  <thead>\n",
       "    <tr style=\"text-align: right;\">\n",
       "      <th></th>\n",
       "      <th>cough</th>\n",
       "      <th>fever</th>\n",
       "      <th>sore_throat</th>\n",
       "      <th>shortness_of_breath</th>\n",
       "      <th>head_ache</th>\n",
       "      <th>corona_result</th>\n",
       "      <th>age_60_and_above_No</th>\n",
       "      <th>age_60_and_above_Yes</th>\n",
       "      <th>gender_None</th>\n",
       "      <th>gender_female</th>\n",
       "      <th>gender_male</th>\n",
       "      <th>test_indication_Abroad</th>\n",
       "      <th>test_indication_Contact with confirmed</th>\n",
       "      <th>test_indication_Other</th>\n",
       "    </tr>\n",
       "  </thead>\n",
       "  <tbody>\n",
       "    <tr>\n",
       "      <th>122808</th>\n",
       "      <td>1</td>\n",
       "      <td>0</td>\n",
       "      <td>0</td>\n",
       "      <td>0</td>\n",
       "      <td>0</td>\n",
       "      <td>negative</td>\n",
       "      <td>0</td>\n",
       "      <td>1</td>\n",
       "      <td>0</td>\n",
       "      <td>0</td>\n",
       "      <td>1</td>\n",
       "      <td>0</td>\n",
       "      <td>0</td>\n",
       "      <td>1</td>\n",
       "    </tr>\n",
       "    <tr>\n",
       "      <th>122809</th>\n",
       "      <td>1</td>\n",
       "      <td>0</td>\n",
       "      <td>0</td>\n",
       "      <td>0</td>\n",
       "      <td>0</td>\n",
       "      <td>positive</td>\n",
       "      <td>1</td>\n",
       "      <td>0</td>\n",
       "      <td>0</td>\n",
       "      <td>1</td>\n",
       "      <td>0</td>\n",
       "      <td>0</td>\n",
       "      <td>0</td>\n",
       "      <td>1</td>\n",
       "    </tr>\n",
       "    <tr>\n",
       "      <th>122810</th>\n",
       "      <td>0</td>\n",
       "      <td>0</td>\n",
       "      <td>0</td>\n",
       "      <td>0</td>\n",
       "      <td>0</td>\n",
       "      <td>negative</td>\n",
       "      <td>1</td>\n",
       "      <td>0</td>\n",
       "      <td>0</td>\n",
       "      <td>1</td>\n",
       "      <td>0</td>\n",
       "      <td>0</td>\n",
       "      <td>0</td>\n",
       "      <td>1</td>\n",
       "    </tr>\n",
       "    <tr>\n",
       "      <th>122811</th>\n",
       "      <td>0</td>\n",
       "      <td>1</td>\n",
       "      <td>0</td>\n",
       "      <td>0</td>\n",
       "      <td>0</td>\n",
       "      <td>negative</td>\n",
       "      <td>1</td>\n",
       "      <td>0</td>\n",
       "      <td>0</td>\n",
       "      <td>1</td>\n",
       "      <td>0</td>\n",
       "      <td>1</td>\n",
       "      <td>0</td>\n",
       "      <td>0</td>\n",
       "    </tr>\n",
       "    <tr>\n",
       "      <th>122812</th>\n",
       "      <td>1</td>\n",
       "      <td>0</td>\n",
       "      <td>0</td>\n",
       "      <td>0</td>\n",
       "      <td>0</td>\n",
       "      <td>negative</td>\n",
       "      <td>0</td>\n",
       "      <td>1</td>\n",
       "      <td>0</td>\n",
       "      <td>1</td>\n",
       "      <td>0</td>\n",
       "      <td>0</td>\n",
       "      <td>0</td>\n",
       "      <td>1</td>\n",
       "    </tr>\n",
       "  </tbody>\n",
       "</table>\n",
       "</div>"
      ],
      "text/plain": [
       "       cough fever sore_throat shortness_of_breath head_ache corona_result  \\\n",
       "122808     1     0           0                   0         0      negative   \n",
       "122809     1     0           0                   0         0      positive   \n",
       "122810     0     0           0                   0         0      negative   \n",
       "122811     0     1           0                   0         0      negative   \n",
       "122812     1     0           0                   0         0      negative   \n",
       "\n",
       "        age_60_and_above_No  age_60_and_above_Yes  gender_None  gender_female  \\\n",
       "122808                    0                     1            0              0   \n",
       "122809                    1                     0            0              1   \n",
       "122810                    1                     0            0              1   \n",
       "122811                    1                     0            0              1   \n",
       "122812                    0                     1            0              1   \n",
       "\n",
       "        gender_male  test_indication_Abroad  \\\n",
       "122808            1                       0   \n",
       "122809            0                       0   \n",
       "122810            0                       0   \n",
       "122811            0                       1   \n",
       "122812            0                       0   \n",
       "\n",
       "        test_indication_Contact with confirmed  test_indication_Other  \n",
       "122808                                       0                      1  \n",
       "122809                                       0                      1  \n",
       "122810                                       0                      1  \n",
       "122811                                       0                      0  \n",
       "122812                                       0                      1  "
      ]
     },
     "execution_count": 19,
     "metadata": {},
     "output_type": "execute_result"
    }
   ],
   "source": [
    "df.head()"
   ]
  },
  {
   "cell_type": "code",
   "execution_count": 20,
   "metadata": {},
   "outputs": [],
   "source": [
    "# set the y-value\n",
    "def cat(row):\n",
    "    if row['corona_result'] == 'negative':\n",
    "        val = 0\n",
    "    else:\n",
    "        val = 1\n",
    "    return val\n",
    "\n",
    "df['covid'] = df.apply(cat, axis=1)"
   ]
  },
  {
   "cell_type": "code",
   "execution_count": 21,
   "metadata": {},
   "outputs": [
    {
     "data": {
      "text/html": [
       "<div>\n",
       "<style scoped>\n",
       "    .dataframe tbody tr th:only-of-type {\n",
       "        vertical-align: middle;\n",
       "    }\n",
       "\n",
       "    .dataframe tbody tr th {\n",
       "        vertical-align: top;\n",
       "    }\n",
       "\n",
       "    .dataframe thead th {\n",
       "        text-align: right;\n",
       "    }\n",
       "</style>\n",
       "<table border=\"1\" class=\"dataframe\">\n",
       "  <thead>\n",
       "    <tr style=\"text-align: right;\">\n",
       "      <th></th>\n",
       "      <th>cough</th>\n",
       "      <th>fever</th>\n",
       "      <th>sore_throat</th>\n",
       "      <th>shortness_of_breath</th>\n",
       "      <th>head_ache</th>\n",
       "      <th>corona_result</th>\n",
       "      <th>age_60_and_above_No</th>\n",
       "      <th>age_60_and_above_Yes</th>\n",
       "      <th>gender_None</th>\n",
       "      <th>gender_female</th>\n",
       "      <th>gender_male</th>\n",
       "      <th>test_indication_Abroad</th>\n",
       "      <th>test_indication_Contact with confirmed</th>\n",
       "      <th>test_indication_Other</th>\n",
       "      <th>covid</th>\n",
       "    </tr>\n",
       "  </thead>\n",
       "  <tbody>\n",
       "    <tr>\n",
       "      <th>122808</th>\n",
       "      <td>1</td>\n",
       "      <td>0</td>\n",
       "      <td>0</td>\n",
       "      <td>0</td>\n",
       "      <td>0</td>\n",
       "      <td>negative</td>\n",
       "      <td>0</td>\n",
       "      <td>1</td>\n",
       "      <td>0</td>\n",
       "      <td>0</td>\n",
       "      <td>1</td>\n",
       "      <td>0</td>\n",
       "      <td>0</td>\n",
       "      <td>1</td>\n",
       "      <td>0</td>\n",
       "    </tr>\n",
       "    <tr>\n",
       "      <th>122809</th>\n",
       "      <td>1</td>\n",
       "      <td>0</td>\n",
       "      <td>0</td>\n",
       "      <td>0</td>\n",
       "      <td>0</td>\n",
       "      <td>positive</td>\n",
       "      <td>1</td>\n",
       "      <td>0</td>\n",
       "      <td>0</td>\n",
       "      <td>1</td>\n",
       "      <td>0</td>\n",
       "      <td>0</td>\n",
       "      <td>0</td>\n",
       "      <td>1</td>\n",
       "      <td>1</td>\n",
       "    </tr>\n",
       "    <tr>\n",
       "      <th>122810</th>\n",
       "      <td>0</td>\n",
       "      <td>0</td>\n",
       "      <td>0</td>\n",
       "      <td>0</td>\n",
       "      <td>0</td>\n",
       "      <td>negative</td>\n",
       "      <td>1</td>\n",
       "      <td>0</td>\n",
       "      <td>0</td>\n",
       "      <td>1</td>\n",
       "      <td>0</td>\n",
       "      <td>0</td>\n",
       "      <td>0</td>\n",
       "      <td>1</td>\n",
       "      <td>0</td>\n",
       "    </tr>\n",
       "    <tr>\n",
       "      <th>122811</th>\n",
       "      <td>0</td>\n",
       "      <td>1</td>\n",
       "      <td>0</td>\n",
       "      <td>0</td>\n",
       "      <td>0</td>\n",
       "      <td>negative</td>\n",
       "      <td>1</td>\n",
       "      <td>0</td>\n",
       "      <td>0</td>\n",
       "      <td>1</td>\n",
       "      <td>0</td>\n",
       "      <td>1</td>\n",
       "      <td>0</td>\n",
       "      <td>0</td>\n",
       "      <td>0</td>\n",
       "    </tr>\n",
       "    <tr>\n",
       "      <th>122812</th>\n",
       "      <td>1</td>\n",
       "      <td>0</td>\n",
       "      <td>0</td>\n",
       "      <td>0</td>\n",
       "      <td>0</td>\n",
       "      <td>negative</td>\n",
       "      <td>0</td>\n",
       "      <td>1</td>\n",
       "      <td>0</td>\n",
       "      <td>1</td>\n",
       "      <td>0</td>\n",
       "      <td>0</td>\n",
       "      <td>0</td>\n",
       "      <td>1</td>\n",
       "      <td>0</td>\n",
       "    </tr>\n",
       "  </tbody>\n",
       "</table>\n",
       "</div>"
      ],
      "text/plain": [
       "       cough fever sore_throat shortness_of_breath head_ache corona_result  \\\n",
       "122808     1     0           0                   0         0      negative   \n",
       "122809     1     0           0                   0         0      positive   \n",
       "122810     0     0           0                   0         0      negative   \n",
       "122811     0     1           0                   0         0      negative   \n",
       "122812     1     0           0                   0         0      negative   \n",
       "\n",
       "        age_60_and_above_No  age_60_and_above_Yes  gender_None  gender_female  \\\n",
       "122808                    0                     1            0              0   \n",
       "122809                    1                     0            0              1   \n",
       "122810                    1                     0            0              1   \n",
       "122811                    1                     0            0              1   \n",
       "122812                    0                     1            0              1   \n",
       "\n",
       "        gender_male  test_indication_Abroad  \\\n",
       "122808            1                       0   \n",
       "122809            0                       0   \n",
       "122810            0                       0   \n",
       "122811            0                       1   \n",
       "122812            0                       0   \n",
       "\n",
       "        test_indication_Contact with confirmed  test_indication_Other  covid  \n",
       "122808                                       0                      1      0  \n",
       "122809                                       0                      1      1  \n",
       "122810                                       0                      1      0  \n",
       "122811                                       0                      0      0  \n",
       "122812                                       0                      1      0  "
      ]
     },
     "execution_count": 21,
     "metadata": {},
     "output_type": "execute_result"
    }
   ],
   "source": [
    "df.head()"
   ]
  },
  {
   "cell_type": "code",
   "execution_count": 22,
   "metadata": {},
   "outputs": [],
   "source": [
    "df = df.drop('corona_result', axis=1)"
   ]
  },
  {
   "cell_type": "code",
   "execution_count": 23,
   "metadata": {},
   "outputs": [
    {
     "data": {
      "text/html": [
       "<div>\n",
       "<style scoped>\n",
       "    .dataframe tbody tr th:only-of-type {\n",
       "        vertical-align: middle;\n",
       "    }\n",
       "\n",
       "    .dataframe tbody tr th {\n",
       "        vertical-align: top;\n",
       "    }\n",
       "\n",
       "    .dataframe thead th {\n",
       "        text-align: right;\n",
       "    }\n",
       "</style>\n",
       "<table border=\"1\" class=\"dataframe\">\n",
       "  <thead>\n",
       "    <tr style=\"text-align: right;\">\n",
       "      <th></th>\n",
       "      <th>cough</th>\n",
       "      <th>fever</th>\n",
       "      <th>sore_throat</th>\n",
       "      <th>shortness_of_breath</th>\n",
       "      <th>head_ache</th>\n",
       "      <th>age_60_and_above_No</th>\n",
       "      <th>age_60_and_above_Yes</th>\n",
       "      <th>gender_None</th>\n",
       "      <th>gender_female</th>\n",
       "      <th>gender_male</th>\n",
       "      <th>test_indication_Abroad</th>\n",
       "      <th>test_indication_Contact with confirmed</th>\n",
       "      <th>test_indication_Other</th>\n",
       "      <th>covid</th>\n",
       "    </tr>\n",
       "  </thead>\n",
       "  <tbody>\n",
       "    <tr>\n",
       "      <th>122808</th>\n",
       "      <td>1</td>\n",
       "      <td>0</td>\n",
       "      <td>0</td>\n",
       "      <td>0</td>\n",
       "      <td>0</td>\n",
       "      <td>0</td>\n",
       "      <td>1</td>\n",
       "      <td>0</td>\n",
       "      <td>0</td>\n",
       "      <td>1</td>\n",
       "      <td>0</td>\n",
       "      <td>0</td>\n",
       "      <td>1</td>\n",
       "      <td>0</td>\n",
       "    </tr>\n",
       "    <tr>\n",
       "      <th>122809</th>\n",
       "      <td>1</td>\n",
       "      <td>0</td>\n",
       "      <td>0</td>\n",
       "      <td>0</td>\n",
       "      <td>0</td>\n",
       "      <td>1</td>\n",
       "      <td>0</td>\n",
       "      <td>0</td>\n",
       "      <td>1</td>\n",
       "      <td>0</td>\n",
       "      <td>0</td>\n",
       "      <td>0</td>\n",
       "      <td>1</td>\n",
       "      <td>1</td>\n",
       "    </tr>\n",
       "    <tr>\n",
       "      <th>122810</th>\n",
       "      <td>0</td>\n",
       "      <td>0</td>\n",
       "      <td>0</td>\n",
       "      <td>0</td>\n",
       "      <td>0</td>\n",
       "      <td>1</td>\n",
       "      <td>0</td>\n",
       "      <td>0</td>\n",
       "      <td>1</td>\n",
       "      <td>0</td>\n",
       "      <td>0</td>\n",
       "      <td>0</td>\n",
       "      <td>1</td>\n",
       "      <td>0</td>\n",
       "    </tr>\n",
       "    <tr>\n",
       "      <th>122811</th>\n",
       "      <td>0</td>\n",
       "      <td>1</td>\n",
       "      <td>0</td>\n",
       "      <td>0</td>\n",
       "      <td>0</td>\n",
       "      <td>1</td>\n",
       "      <td>0</td>\n",
       "      <td>0</td>\n",
       "      <td>1</td>\n",
       "      <td>0</td>\n",
       "      <td>1</td>\n",
       "      <td>0</td>\n",
       "      <td>0</td>\n",
       "      <td>0</td>\n",
       "    </tr>\n",
       "    <tr>\n",
       "      <th>122812</th>\n",
       "      <td>1</td>\n",
       "      <td>0</td>\n",
       "      <td>0</td>\n",
       "      <td>0</td>\n",
       "      <td>0</td>\n",
       "      <td>0</td>\n",
       "      <td>1</td>\n",
       "      <td>0</td>\n",
       "      <td>1</td>\n",
       "      <td>0</td>\n",
       "      <td>0</td>\n",
       "      <td>0</td>\n",
       "      <td>1</td>\n",
       "      <td>0</td>\n",
       "    </tr>\n",
       "  </tbody>\n",
       "</table>\n",
       "</div>"
      ],
      "text/plain": [
       "       cough fever sore_throat shortness_of_breath head_ache  \\\n",
       "122808     1     0           0                   0         0   \n",
       "122809     1     0           0                   0         0   \n",
       "122810     0     0           0                   0         0   \n",
       "122811     0     1           0                   0         0   \n",
       "122812     1     0           0                   0         0   \n",
       "\n",
       "        age_60_and_above_No  age_60_and_above_Yes  gender_None  gender_female  \\\n",
       "122808                    0                     1            0              0   \n",
       "122809                    1                     0            0              1   \n",
       "122810                    1                     0            0              1   \n",
       "122811                    1                     0            0              1   \n",
       "122812                    0                     1            0              1   \n",
       "\n",
       "        gender_male  test_indication_Abroad  \\\n",
       "122808            1                       0   \n",
       "122809            0                       0   \n",
       "122810            0                       0   \n",
       "122811            0                       1   \n",
       "122812            0                       0   \n",
       "\n",
       "        test_indication_Contact with confirmed  test_indication_Other  covid  \n",
       "122808                                       0                      1      0  \n",
       "122809                                       0                      1      1  \n",
       "122810                                       0                      1      0  \n",
       "122811                                       0                      0      0  \n",
       "122812                                       0                      1      0  "
      ]
     },
     "execution_count": 23,
     "metadata": {},
     "output_type": "execute_result"
    }
   ],
   "source": [
    "df.head()"
   ]
  },
  {
   "cell_type": "code",
   "execution_count": 24,
   "metadata": {},
   "outputs": [
    {
     "data": {
      "text/plain": [
       "<matplotlib.axes._subplots.AxesSubplot at 0x1ebd229d340>"
      ]
     },
     "execution_count": 24,
     "metadata": {},
     "output_type": "execute_result"
    },
    {
     "data": {
      "image/png": "[encoded data removed]",
      "text/plain": [
       "<Figure size 432x288 with 1 Axes>"
      ]
     },
     "metadata": {},
     "output_type": "display_data"
    }
   ],
   "source": [
    "# Obeserve the 1 and 0 values\n",
    "\n",
    "sns.set_style('whitegrid')\n",
    "sns.countplot(x='covid',data=df,palette=\"RdBu_r\")"
   ]
  },
  {
   "cell_type": "code",
   "execution_count": 25,
   "metadata": {},
   "outputs": [
    {
     "data": {
      "text/plain": [
       "cough                                     object\n",
       "fever                                     object\n",
       "sore_throat                               object\n",
       "shortness_of_breath                       object\n",
       "head_ache                                 object\n",
       "age_60_and_above_No                        uint8\n",
       "age_60_and_above_Yes                       uint8\n",
       "gender_None                                uint8\n",
       "gender_female                              uint8\n",
       "gender_male                                uint8\n",
       "test_indication_Abroad                     uint8\n",
       "test_indication_Contact with confirmed     uint8\n",
       "test_indication_Other                      uint8\n",
       "covid                                      int64\n",
       "dtype: object"
      ]
     },
     "execution_count": 25,
     "metadata": {},
     "output_type": "execute_result"
    }
   ],
   "source": [
    "df.dtypes"
   ]
  },
  {
   "cell_type": "code",
   "execution_count": 26,
   "metadata": {},
   "outputs": [
    {
     "name": "stdout",
     "output_type": "stream",
     "text": [
      "Index(['cough', 'fever', 'sore_throat', 'shortness_of_breath', 'head_ache',\n",
      "       'age_60_and_above_No', 'age_60_and_above_Yes', 'gender_None',\n",
      "       'gender_female', 'gender_male', 'test_indication_Abroad',\n",
      "       'test_indication_Contact with confirmed', 'test_indication_Other',\n",
      "       'covid'],\n",
      "      dtype='object')\n"
     ]
    },
    {
     "data": {
      "image/png": "[encoded data removed]",
      "text/plain": [
       "<Figure size 1440x1440 with 2 Axes>"
      ]
     },
     "metadata": {
      "needs_background": "light"
     },
     "output_type": "display_data"
    }
   ],
   "source": [
    "import seaborn as sns\n",
    "import matplotlib.pyplot as plt\n",
    "from matplotlib import rcParams\n",
    "from matplotlib.cm import rainbow\n",
    "%matplotlib inline\n",
    "\n",
    "df = df.astype(int)\n",
    "\n",
    "corrmat = df.corr()\n",
    "top_corr_features = corrmat.index\n",
    "print(top_corr_features)\n",
    "plt.figure(figsize=(20,20))\n",
    "g=sns.heatmap(df[top_corr_features].corr(),annot=True,cmap=\"RdYlGn\")\n"
   ]
  },
  {
   "cell_type": "markdown",
   "metadata": {},
   "source": [
    "### 3. Machine Learning Model"
   ]
  },
  {
   "cell_type": "code",
   "execution_count": 27,
   "metadata": {},
   "outputs": [],
   "source": [
    "y = df['covid'].values\n",
    "X = df.drop(columns=['covid'])"
   ]
  },
  {
   "cell_type": "code",
   "execution_count": 28,
   "metadata": {},
   "outputs": [
    {
     "name": "stdout",
     "output_type": "stream",
     "text": [
      "0 ) cough : 0.05018706144455801\n",
      "1 ) fever : 0.10623048184040494\n",
      "2 ) sore_throat : 0.10033488057001194\n",
      "3 ) shortness_of_breath : 0.06913705589272415\n",
      "4 ) head_ache : 0.16486838061167985\n",
      "5 ) age_60_and_above_No : 0.004815380245707874\n",
      "6 ) age_60_and_above_Yes : 0.0043579079057178526\n",
      "7 ) gender_None : 0.005357892371921201\n",
      "8 ) gender_female : 0.0044605186988160095\n",
      "9 ) gender_male : 0.004379451129587542\n",
      "10 ) test_indication_Abroad : 0.06161020815323898\n",
      "11 ) test_indication_Contact with confirmed : 0.2877000285005361\n",
      "12 ) test_indication_Other : 0.13656075263509568\n"
     ]
    },
    {
     "data": {
      "image/png": "[encoded data removed]",
      "text/plain": [
       "<Figure size 432x288 with 1 Axes>"
      ]
     },
     "metadata": {
      "needs_background": "light"
     },
     "output_type": "display_data"
    },
    {
     "name": "stdout",
     "output_type": "stream",
     "text": [
      "tn: 40771\n",
      "fp: 445\n",
      "fn: 1447\n",
      "tp: 2050\n",
      "0.6731030696041267  MCC\n",
      "0.8216432865731463 Precision Score\n",
      "0.9576856842529018 Accuracy Score\n",
      "\n",
      "0 ) cough : 0.047079536222539756\n",
      "1 ) fever : 0.08297945670876496\n",
      "2 ) sore_throat : 0.09924366508617016\n",
      "3 ) shortness_of_breath : 0.07555750258825833\n",
      "4 ) head_ache : 0.174773593989507\n",
      "5 ) age_60_and_above_No : 0.004364931588690692\n",
      "6 ) age_60_and_above_Yes : 0.00434804896101884\n",
      "7 ) gender_None : 0.005405358180927817\n",
      "8 ) gender_female : 0.0040197863901471\n",
      "9 ) gender_male : 0.004022599079939326\n",
      "10 ) test_indication_Abroad : 0.06793520207066855\n",
      "11 ) test_indication_Contact with confirmed : 0.3035564609239793\n",
      "12 ) test_indication_Other : 0.12671385820938805\n"
     ]
    },
    {
     "data": {
      "image/png": "[encoded data removed]",
      "text/plain": [
       "<Figure size 432x288 with 1 Axes>"
      ]
     },
     "metadata": {
      "needs_background": "light"
     },
     "output_type": "display_data"
    },
    {
     "name": "stdout",
     "output_type": "stream",
     "text": [
      "tn: 40770\n",
      "fp: 446\n",
      "fn: 1448\n",
      "tp: 2049\n",
      "0.6727401846432018  MCC\n",
      "0.8212424849699399 Precision Score\n",
      "0.957640954532239 Accuracy Score\n",
      "\n",
      "0 ) cough : 0.04719317265196615\n",
      "1 ) fever : 0.08810907194884474\n",
      "2 ) sore_throat : 0.09494845017931755\n",
      "3 ) shortness_of_breath : 0.07151902258328147\n",
      "4 ) head_ache : 0.18917896161039927\n",
      "5 ) age_60_and_above_No : 0.004284339677921292\n",
      "6 ) age_60_and_above_Yes : 0.004295313410039282\n",
      "7 ) gender_None : 0.005716502943068684\n",
      "8 ) gender_female : 0.00435812831347519\n",
      "9 ) gender_male : 0.004283623196141513\n",
      "10 ) test_indication_Abroad : 0.04386417229875989\n",
      "11 ) test_indication_Contact with confirmed : 0.3373590038144803\n",
      "12 ) test_indication_Other : 0.10489023737230459\n"
     ]
    },
    {
     "data": {
      "image/png": "[encoded data removed]",
      "text/plain": [
       "<Figure size 432x288 with 1 Axes>"
      ]
     },
     "metadata": {
      "needs_background": "light"
     },
     "output_type": "display_data"
    },
    {
     "name": "stdout",
     "output_type": "stream",
     "text": [
      "tn: 40771\n",
      "fp: 445\n",
      "fn: 1444\n",
      "tp: 2053\n",
      "0.6737256093017424  MCC\n",
      "0.821857485988791 Precision Score\n",
      "0.9577527788338962 Accuracy Score\n",
      "\n",
      "0 ) cough : 0.04725818904536272\n",
      "1 ) fever : 0.0869780096752731\n",
      "2 ) sore_throat : 0.09288792485231159\n",
      "3 ) shortness_of_breath : 0.07159330851591747\n",
      "4 ) head_ache : 0.19050232880269727\n",
      "5 ) age_60_and_above_No : 0.004688379480748144\n",
      "6 ) age_60_and_above_Yes : 0.004284916612548892\n",
      "7 ) gender_None : 0.005618563716344051\n",
      "8 ) gender_female : 0.00387243277425708\n",
      "9 ) gender_male : 0.0042983561246815625\n",
      "10 ) test_indication_Abroad : 0.04057770708125313\n",
      "11 ) test_indication_Contact with confirmed : 0.3557209737986286\n",
      "12 ) test_indication_Other : 0.09171890951997654\n"
     ]
    },
    {
     "data": {
      "image/png": "[encoded data removed]",
      "text/plain": [
       "<Figure size 432x288 with 1 Axes>"
      ]
     },
     "metadata": {
      "needs_background": "light"
     },
     "output_type": "display_data"
    },
    {
     "name": "stdout",
     "output_type": "stream",
     "text": [
      "tn: 40770\n",
      "fp: 446\n",
      "fn: 1450\n",
      "tp: 2047\n",
      "0.6723247814985498  MCC\n",
      "0.8210990774167669 Precision Score\n",
      "0.957596224811576 Accuracy Score\n",
      "\n",
      "0 ) cough : 0.04406348811889654\n",
      "1 ) fever : 0.0811990482322075\n",
      "2 ) sore_throat : 0.0910365028340675\n",
      "3 ) shortness_of_breath : 0.06930368694335824\n",
      "4 ) head_ache : 0.19481130711848227\n",
      "5 ) age_60_and_above_No : 0.004347387479547923\n",
      "6 ) age_60_and_above_Yes : 0.004390384706253044\n",
      "7 ) gender_None : 0.005394415653755951\n",
      "8 ) gender_female : 0.003740728721406687\n",
      "9 ) gender_male : 0.004477757077673328\n",
      "10 ) test_indication_Abroad : 0.039544150933502394\n",
      "11 ) test_indication_Contact with confirmed : 0.3678053911421994\n",
      "12 ) test_indication_Other : 0.0898857510386493\n"
     ]
    },
    {
     "data": {
      "image/png": "[encoded data removed]",
      "text/plain": [
       "<Figure size 432x288 with 1 Axes>"
      ]
     },
     "metadata": {
      "needs_background": "light"
     },
     "output_type": "display_data"
    },
    {
     "name": "stdout",
     "output_type": "stream",
     "text": [
      "tn: 40771\n",
      "fp: 445\n",
      "fn: 1443\n",
      "tp: 2054\n",
      "0.673933026787843  MCC\n",
      "0.8219287715086034 Precision Score\n",
      "0.9577751436942277 Accuracy Score\n",
      "\n",
      "0 ) cough : 0.04807571787735366\n",
      "1 ) fever : 0.09461545029431341\n",
      "2 ) sore_throat : 0.09491310209048728\n",
      "3 ) shortness_of_breath : 0.07314487068269619\n",
      "4 ) head_ache : 0.18479382783219236\n",
      "5 ) age_60_and_above_No : 0.004401058551810501\n",
      "6 ) age_60_and_above_Yes : 0.004390975688533039\n",
      "7 ) gender_None : 0.005499854825717697\n",
      "8 ) gender_female : 0.004116069060546034\n",
      "9 ) gender_male : 0.00419767908744352\n",
      "10 ) test_indication_Abroad : 0.05132209604286259\n",
      "11 ) test_indication_Contact with confirmed : 0.32434656976284476\n",
      "12 ) test_indication_Other : 0.10618272820319902\n"
     ]
    },
    {
     "data": {
      "image/png": "[encoded data removed]",
      "text/plain": [
       "<Figure size 432x288 with 1 Axes>"
      ]
     },
     "metadata": {
      "needs_background": "light"
     },
     "output_type": "display_data"
    },
    {
     "name": "stdout",
     "output_type": "stream",
     "text": [
      "tn: 40772\n",
      "fp: 444\n",
      "fn: 1453\n",
      "tp: 2044\n",
      "0.6720121615017283  MCC\n",
      "0.8215434083601286 Precision Score\n",
      "0.9575738599512446 Accuracy Score\n",
      "\n",
      "0 ) cough : 0.04693962608017624\n",
      "1 ) fever : 0.08618596314887304\n",
      "2 ) sore_throat : 0.09339480648552263\n",
      "3 ) shortness_of_breath : 0.07328743945852681\n",
      "4 ) head_ache : 0.19137644870335152\n",
      "5 ) age_60_and_above_No : 0.0040872543337820266\n",
      "6 ) age_60_and_above_Yes : 0.00466402983537584\n",
      "7 ) gender_None : 0.005584767943695381\n",
      "8 ) gender_female : 0.00410295693846563\n",
      "9 ) gender_male : 0.004290741744247324\n",
      "10 ) test_indication_Abroad : 0.06190053989483718\n",
      "11 ) test_indication_Contact with confirmed : 0.29892441459149294\n",
      "12 ) test_indication_Other : 0.12526101084165336\n"
     ]
    },
    {
     "data": {
      "image/png": "[encoded data removed]",
      "text/plain": [
       "<Figure size 432x288 with 1 Axes>"
      ]
     },
     "metadata": {
      "needs_background": "light"
     },
     "output_type": "display_data"
    },
    {
     "name": "stdout",
     "output_type": "stream",
     "text": [
      "tn: 40772\n",
      "fp: 444\n",
      "fn: 1448\n",
      "tp: 2049\n",
      "0.6730508252878581  MCC\n",
      "0.8219013237063778 Precision Score\n",
      "0.9576856842529018 Accuracy Score\n",
      "\n",
      "0 ) cough : 0.04877119066198938\n",
      "1 ) fever : 0.10084498886974408\n",
      "2 ) sore_throat : 0.10154168935372594\n",
      "3 ) shortness_of_breath : 0.07072433865136042\n",
      "4 ) head_ache : 0.16681444844974117\n",
      "5 ) age_60_and_above_No : 0.004531467945581769\n",
      "6 ) age_60_and_above_Yes : 0.004701289903551093\n",
      "7 ) gender_None : 0.005551711325527657\n",
      "8 ) gender_female : 0.004367365828308176\n",
      "9 ) gender_male : 0.004251166438804059\n",
      "10 ) test_indication_Abroad : 0.058110910938333045\n",
      "11 ) test_indication_Contact with confirmed : 0.3247622836071572\n",
      "12 ) test_indication_Other : 0.10502714802617609\n"
     ]
    },
    {
     "data": {
      "image/png": "[encoded data removed]",
      "text/plain": [
       "<Figure size 432x288 with 1 Axes>"
      ]
     },
     "metadata": {
      "needs_background": "light"
     },
     "output_type": "display_data"
    },
    {
     "name": "stdout",
     "output_type": "stream",
     "text": [
      "tn: 40770\n",
      "fp: 446\n",
      "fn: 1445\n",
      "tp: 2052\n",
      "0.6733629294253843  MCC\n",
      "0.8214571657325861 Precision Score\n",
      "0.9577080491132333 Accuracy Score\n",
      "\n",
      "0 ) cough : 0.050245984101827824\n",
      "1 ) fever : 0.09065348136329847\n",
      "2 ) sore_throat : 0.08893500402502838\n",
      "3 ) shortness_of_breath : 0.07014652906095839\n",
      "4 ) head_ache : 0.19293779143925996\n",
      "5 ) age_60_and_above_No : 0.004492520229736347\n",
      "6 ) age_60_and_above_Yes : 0.004146509419122168\n",
      "7 ) gender_None : 0.0057125186299934565\n",
      "8 ) gender_female : 0.00420592095048847\n",
      "9 ) gender_male : 0.004186405047576493\n",
      "10 ) test_indication_Abroad : 0.05893506871723394\n",
      "11 ) test_indication_Contact with confirmed : 0.3102739900493057\n",
      "12 ) test_indication_Other : 0.11512827696617026\n"
     ]
    },
    {
     "data": {
      "image/png": "[encoded data removed]",
      "text/plain": [
       "<Figure size 432x288 with 1 Axes>"
      ]
     },
     "metadata": {
      "needs_background": "light"
     },
     "output_type": "display_data"
    },
    {
     "name": "stdout",
     "output_type": "stream",
     "text": [
      "tn: 40771\n",
      "fp: 445\n",
      "fn: 1445\n",
      "tp: 2052\n",
      "0.6735181439677091  MCC\n",
      "0.8217861433720465 Precision Score\n",
      "0.9577304139735647 Accuracy Score\n",
      "\n",
      "0 ) cough : 0.05035118757425522\n",
      "1 ) fever : 0.09341262877773074\n",
      "2 ) sore_throat : 0.08818079708752441\n",
      "3 ) shortness_of_breath : 0.0731576325561996\n",
      "4 ) head_ache : 0.18044066588299085\n",
      "5 ) age_60_and_above_No : 0.004286842256400441\n",
      "6 ) age_60_and_above_Yes : 0.004349313450959085\n",
      "7 ) gender_None : 0.005702842197162986\n",
      "8 ) gender_female : 0.004398479326175622\n",
      "9 ) gender_male : 0.004317201922411009\n",
      "10 ) test_indication_Abroad : 0.07041512907862602\n",
      "11 ) test_indication_Contact with confirmed : 0.30563643242464134\n",
      "12 ) test_indication_Other : 0.11535084746492266\n"
     ]
    },
    {
     "data": {
      "image/png": "[encoded data removed]",
      "text/plain": [
       "<Figure size 432x288 with 1 Axes>"
      ]
     },
     "metadata": {
      "needs_background": "light"
     },
     "output_type": "display_data"
    },
    {
     "name": "stdout",
     "output_type": "stream",
     "text": [
      "tn: 40771\n",
      "fp: 445\n",
      "fn: 1449\n",
      "tp: 2048\n",
      "0.672687803393204  MCC\n",
      "0.8215002005615724 Precision Score\n",
      "0.957640954532239 Accuracy Score\n",
      "\n"
     ]
    }
   ],
   "source": [
    "def sratified_k_fold(X, y):\n",
    "    skf = StratifiedKFold(n_splits=10) # shuffles the features after split)\n",
    "    for train_index, test_index in skf.split(X, y):\n",
    "        X_train, X_test, y_train, y_test = train_test_split(X,\n",
    "                                                            y,\n",
    "                                                            test_size=0.30,\n",
    "                                                            random_state=0)\n",
    "        \n",
    "        # define the undersampling method\n",
    "        #undersample = OneSidedSelection(n_neighbors=1, n_seeds_S=200)\n",
    "        # transform the dataset\n",
    "        #X_train, y_train = undersample.fit_resample(X_train, y_train)\n",
    "\n",
    "\n",
    "        #### Gradient boost classifier\n",
    "        clf = RandomForestClassifier()\n",
    "        clf.fit(X_train, y_train)\n",
    "        importance = clf.feature_importances_\n",
    "        X_columns = X_train.columns\n",
    "        importances = list(zip(X_columns, clf.feature_importances_))\n",
    "        i = 0\n",
    "        for x in importances:\n",
    "            print(i,\")\",x[0],':', x[1])\n",
    "            i += 1\n",
    "        plt.bar([x for x in range(len(importance))], importance)\n",
    "        plt.show()\n",
    "        y_pred = clf.predict(X_test)\n",
    "        tn, fp, fn, tp = confusion_matrix(y_test, y_pred).ravel()\n",
    "        print('tn: {}\\nfp: {}\\nfn: {}\\ntp: {}'.format(tn,fp,fn,tp))\n",
    "        print(matthews_corrcoef(y_test, y_pred), \" MCC\") # Evaluates the whole model\n",
    "        print(precision_score(y_test, y_pred, average='binary'), \"Precision Score\") # Tells how many selected items are relevant\n",
    "        print(accuracy_score(y_test, y_pred), \"Accuracy Score\\n\") # Tells about the set of labels predicted for a sample must exactly match the corresponding set of labels in y_test\n",
    "\n",
    "sratified_k_fold(X, y)"
   ]
  },
  {
   "cell_type": "markdown",
   "metadata": {},
   "source": [
    "### 4. Trying with an input"
   ]
  },
  {
   "cell_type": "markdown",
   "metadata": {},
   "source": [
    "Now that we observed that that the ppv was around 0.82 and the mcc around 0.67 across 10 folds, we would try to implement this with our own input."
   ]
  },
  {
   "cell_type": "code",
   "execution_count": 29,
   "metadata": {},
   "outputs": [
    {
     "name": "stdout",
     "output_type": "stream",
     "text": [
      "[[1, 0, 0, 1, 0, 1, 1, 0, 1, 0, 1, 0, 1]] [1]\n"
     ]
    }
   ],
   "source": [
    "# Set the X and the y-value\n",
    "\n",
    "y = df['covid'].values\n",
    "X = df.drop(columns=['covid'])\n",
    "\n",
    "# Fit the model\n",
    "clf = RandomForestClassifier()\n",
    "clf.fit(X, y)\n",
    "\n",
    "# define input\n",
    "new_input = [[1,0,0,1,0,1,1,0,1,0,1,0,1]]\n",
    "\n",
    "# get prediction for new input\n",
    "new_output = clf.predict(new_input)\n",
    "\n",
    "# summarize input and output\n",
    "print(new_input, new_output)"
   ]
  },
  {
   "cell_type": "code",
   "execution_count": null,
   "metadata": {},
   "outputs": [],
   "source": []
  }
 ],
 "metadata": {
  "kernelspec": {
   "display_name": "Python 3.8.3 64-bit",
   "language": "python",
   "name": "python38364bitec60416e072243d1ac623a71521cbdd1"
  },
  "language_info": {
   "codemirror_mode": {
    "name": "ipython",
    "version": 3
   },
   "file_extension": ".py",
   "mimetype": "text/x-python",
   "name": "python",
   "nbconvert_exporter": "python",
   "pygments_lexer": "ipython3",
   "version": "3.8.3"
  }
 },
 "nbformat": 4,
 "nbformat_minor": 2
}
